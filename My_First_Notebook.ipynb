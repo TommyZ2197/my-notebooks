{
  "nbformat": 4,
  "nbformat_minor": 0,
  "metadata": {
    "colab": {
      "name": "My First Notebook",
      "provenance": [],
      "authorship_tag": "ABX9TyNa0ts9zwWAYWX5bntsWkV/",
      "include_colab_link": true
    },
    "kernelspec": {
      "name": "python3",
      "display_name": "Python 3"
    },
    "language_info": {
      "name": "python"
    }
  },
  "cells": [
    {
      "cell_type": "markdown",
      "metadata": {
        "id": "view-in-github",
        "colab_type": "text"
      },
      "source": [
        "<a href=\"https://colab.research.google.com/github/TommyZ2197/my-notebooks/blob/main/My_First_Notebook.ipynb\" target=\"_parent\"><img src=\"https://colab.research.google.com/assets/colab-badge.svg\" alt=\"Open In Colab\"/></a>"
      ]
    },
    {
      "cell_type": "code",
      "execution_count": null,
      "metadata": {
        "id": "3R3c-vWHuuMo"
      },
      "outputs": [],
      "source": [
        ""
      ]
    },
    {
      "cell_type": "markdown",
      "source": [
        "this is some text\n",
        "\n",
        "we can write any language (like english)\n",
        "\n",
        "# My Heading\n",
        "## Heading\n",
        "here is a list:\n",
        "  + Item 1\n",
        "  +Item 2\n",
        "\n",
        "Numbered list:\n",
        "1. Item 1\n",
        "2. Item 2\n",
        "\n",
        "this is a link: [Google](https://www.google.com/?client=safari)\n",
        "\n",
        "\n",
        "this is a code block:\n",
        "```\n",
        "\n",
        "\n"
      ],
      "metadata": {
        "id": "s41HufRcwkhK"
      }
    },
    {
      "cell_type": "code",
      "source": [
        "# This is some example Python code\n",
        "# These lines starting with \"#\" are \"comments\"\n",
        "# Remember \"#\" means something different in Markdown than it does in Python\n",
        "\n",
        "print(\"HELLO WORLD!\")\n",
        "\n",
        "x = 2 + 2\n",
        "print(x)\n"
      ],
      "metadata": {
        "colab": {
          "base_uri": "https://localhost:8080/"
        },
        "id": "ZzaG2p_YylPm",
        "outputId": "15f4c170-2d5a-4cad-c02e-09d4d11c9b32"
      },
      "execution_count": 1,
      "outputs": [
        {
          "output_type": "stream",
          "name": "stdout",
          "text": [
            "HELLO WORLD!\n",
            "4\n"
          ]
        }
      ]
    }
  ]
}